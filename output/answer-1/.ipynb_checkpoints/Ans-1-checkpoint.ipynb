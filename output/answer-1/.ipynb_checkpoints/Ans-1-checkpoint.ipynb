{
 "cells": [
  {
   "cell_type": "code",
   "execution_count": 2,
   "id": "2f0bcdfa",
   "metadata": {},
   "outputs": [],
   "source": [
    "import pandas as pd\n",
    "data = pd.read_csv(\"../../input/question-1/main.csv\")"
   ]
  },
  {
   "cell_type": "code",
   "execution_count": 3,
   "id": "92f527a3",
   "metadata": {},
   "outputs": [
    {
     "data": {
      "text/html": [
       "<div>\n",
       "<style scoped>\n",
       "    .dataframe tbody tr th:only-of-type {\n",
       "        vertical-align: middle;\n",
       "    }\n",
       "\n",
       "    .dataframe tbody tr th {\n",
       "        vertical-align: top;\n",
       "    }\n",
       "\n",
       "    .dataframe thead th {\n",
       "        text-align: right;\n",
       "    }\n",
       "</style>\n",
       "<table border=\"1\" class=\"dataframe\">\n",
       "  <thead>\n",
       "    <tr style=\"text-align: right;\">\n",
       "      <th></th>\n",
       "      <th>product_code</th>\n",
       "      <th>product_description</th>\n",
       "      <th>product_group</th>\n",
       "      <th>sales_date</th>\n",
       "      <th>price</th>\n",
       "      <th>sales_quantity</th>\n",
       "      <th>unit</th>\n",
       "    </tr>\n",
       "  </thead>\n",
       "  <tbody>\n",
       "    <tr>\n",
       "      <th>0</th>\n",
       "      <td>1001</td>\n",
       "      <td>tomato</td>\n",
       "      <td>vegetable</td>\n",
       "      <td>2021-11-01</td>\n",
       "      <td>2.99</td>\n",
       "      <td>36</td>\n",
       "      <td>kg</td>\n",
       "    </tr>\n",
       "    <tr>\n",
       "      <th>1</th>\n",
       "      <td>1001</td>\n",
       "      <td>tomato</td>\n",
       "      <td>vegetable</td>\n",
       "      <td>2021-11-02</td>\n",
       "      <td>2.99</td>\n",
       "      <td>23</td>\n",
       "      <td>kg</td>\n",
       "    </tr>\n",
       "    <tr>\n",
       "      <th>2</th>\n",
       "      <td>1001</td>\n",
       "      <td>tomato</td>\n",
       "      <td>vegetable</td>\n",
       "      <td>2021-11-03</td>\n",
       "      <td>2.99</td>\n",
       "      <td>34</td>\n",
       "      <td>kg</td>\n",
       "    </tr>\n",
       "    <tr>\n",
       "      <th>3</th>\n",
       "      <td>1001</td>\n",
       "      <td>tomato</td>\n",
       "      <td>vegetable</td>\n",
       "      <td>2021-11-04</td>\n",
       "      <td>2.99</td>\n",
       "      <td>23</td>\n",
       "      <td>kg</td>\n",
       "    </tr>\n",
       "    <tr>\n",
       "      <th>4</th>\n",
       "      <td>1001</td>\n",
       "      <td>tomato</td>\n",
       "      <td>vegetable</td>\n",
       "      <td>2021-11-05</td>\n",
       "      <td>2.99</td>\n",
       "      <td>34</td>\n",
       "      <td>kg</td>\n",
       "    </tr>\n",
       "  </tbody>\n",
       "</table>\n",
       "</div>"
      ],
      "text/plain": [
       "   product_code product_description product_group  sales_date  price  \\\n",
       "0          1001              tomato     vegetable  2021-11-01   2.99   \n",
       "1          1001              tomato     vegetable  2021-11-02   2.99   \n",
       "2          1001              tomato     vegetable  2021-11-03   2.99   \n",
       "3          1001              tomato     vegetable  2021-11-04   2.99   \n",
       "4          1001              tomato     vegetable  2021-11-05   2.99   \n",
       "\n",
       "   sales_quantity unit  \n",
       "0              36   kg  \n",
       "1              23   kg  \n",
       "2              34   kg  \n",
       "3              23   kg  \n",
       "4              34   kg  "
      ]
     },
     "execution_count": 3,
     "metadata": {},
     "output_type": "execute_result"
    }
   ],
   "source": [
    "data.head()"
   ]
  },
  {
   "cell_type": "code",
   "execution_count": null,
   "id": "2bd4972d",
   "metadata": {},
   "outputs": [],
   "source": [
    "data.groupby('product_description')['price'].mean()"
   ]
  }
 ],
 "metadata": {
  "kernelspec": {
   "display_name": "Python 3 (ipykernel)",
   "language": "python",
   "name": "python3"
  },
  "language_info": {
   "codemirror_mode": {
    "name": "ipython",
    "version": 3
   },
   "file_extension": ".py",
   "mimetype": "text/x-python",
   "name": "python",
   "nbconvert_exporter": "python",
   "pygments_lexer": "ipython3",
   "version": "3.8.10"
  }
 },
 "nbformat": 4,
 "nbformat_minor": 5
}
